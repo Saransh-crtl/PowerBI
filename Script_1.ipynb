{
 "cells": [
  {
   "cell_type": "code",
   "execution_count": 7,
   "metadata": {},
   "outputs": [
    {
     "ename": "ModuleNotFoundError",
     "evalue": "No module named 'pandas'",
     "output_type": "error",
     "traceback": [
      "\u001b[31m---------------------------------------------------------------------------\u001b[39m",
      "\u001b[31mModuleNotFoundError\u001b[39m                       Traceback (most recent call last)",
      "\u001b[36mCell\u001b[39m\u001b[36m \u001b[39m\u001b[32mIn[7]\u001b[39m\u001b[32m, line 3\u001b[39m\n\u001b[32m      1\u001b[39m \u001b[38;5;66;03m#Import Required Libraries\u001b[39;00m\n\u001b[32m----> \u001b[39m\u001b[32m3\u001b[39m \u001b[38;5;28;01mimport\u001b[39;00m\u001b[38;5;250m \u001b[39m\u001b[34;01mpandas\u001b[39;00m\u001b[38;5;250m \u001b[39m\u001b[38;5;28;01mas\u001b[39;00m\u001b[38;5;250m \u001b[39m\u001b[34;01mpd\u001b[39;00m\n\u001b[32m      4\u001b[39m \u001b[38;5;28;01mimport\u001b[39;00m\u001b[38;5;250m \u001b[39m\u001b[34;01mnumpy\u001b[39;00m\u001b[38;5;250m \u001b[39m\u001b[38;5;28;01mas\u001b[39;00m\u001b[38;5;250m \u001b[39m\u001b[34;01mnp\u001b[39;00m\n\u001b[32m      5\u001b[39m \u001b[38;5;28;01mimport\u001b[39;00m\u001b[38;5;250m \u001b[39m\u001b[34;01mos\u001b[39;00m\n",
      "\u001b[31mModuleNotFoundError\u001b[39m: No module named 'pandas'"
     ]
    }
   ],
   "source": [
    "#Import Required Libraries\n",
    "\n",
    "import pandas as pd\n",
    "import numpy as np\n",
    "import os"
   ]
  },
  {
   "cell_type": "code",
   "execution_count": 2,
   "metadata": {},
   "outputs": [],
   "source": [
    "# Load the 5 csvs\n",
    "\n",
    "df1 = pd.read_csv(\"2015_with_missing.csv\")\n",
    "df2 = pd.read_csv(\"2016_with_missing.csv\")\n",
    "df3 = pd.read_csv(\"2017_with_missing.csv\")\n",
    "df4 = pd.read_csv(\"2018_with_missing.csv\")\n",
    "df5 = pd.read_csv(\"2019_with_missing.csv\")"
   ]
  },
  {
   "cell_type": "code",
   "execution_count": 3,
   "metadata": {},
   "outputs": [],
   "source": [
    "# Look at each df"
   ]
  },
  {
   "cell_type": "code",
   "execution_count": 4,
   "metadata": {},
   "outputs": [
    {
     "name": "stdout",
     "output_type": "stream",
     "text": [
      "\n",
      "Sample records:\n",
      "        Country          Region  Happiness Rank  Happiness Score  \\\n",
      "0  Switzerland  Western Europe               1            7.587   \n",
      "1      Iceland  Western Europe               2            7.561   \n",
      "2      Denmark  Western Europe               3            7.527   \n",
      "3       Norway  Western Europe               4            7.522   \n",
      "4       Canada   North America               5            7.427   \n",
      "\n",
      "   Standard Error  Economy (GDP per Capita)   Family  \\\n",
      "0         0.03411                   1.39651  1.34951   \n",
      "1         0.04884                   1.30232  1.40223   \n",
      "2         0.03328                       NaN  1.36058   \n",
      "3         0.03880                   1.45900  1.33095   \n",
      "4             NaN                       NaN  1.32261   \n",
      "\n",
      "   Health (Life Expectancy)  Freedom  Trust (Government Corruption)  \\\n",
      "0                   0.94143      NaN                        0.41978   \n",
      "1                   0.94784  0.62877                        0.14145   \n",
      "2                   0.87464      NaN                        0.48357   \n",
      "3                   0.88521  0.66973                        0.36503   \n",
      "4                   0.90563  0.63297                        0.32957   \n",
      "\n",
      "   Generosity  Dystopia Residual  \n",
      "0     0.29678            2.51738  \n",
      "1     0.43630            2.70201  \n",
      "2     0.34139            2.49204  \n",
      "3     0.34699            2.46531  \n",
      "4     0.45811                NaN  \n",
      "\n",
      "Column names:\n",
      " ['Country', 'Region', 'Happiness Rank', 'Happiness Score', 'Standard Error', 'Economy (GDP per Capita)', 'Family', 'Health (Life Expectancy)', 'Freedom', 'Trust (Government Corruption)', 'Generosity', 'Dystopia Residual']\n"
     ]
    }
   ],
   "source": [
    "print(\"\\nSample records:\\n\", df1.head())\n",
    "print(\"\\nColumn names:\\n\", df1.columns.tolist())"
   ]
  },
  {
   "cell_type": "code",
   "execution_count": 5,
   "metadata": {},
   "outputs": [
    {
     "name": "stdout",
     "output_type": "stream",
     "text": [
      "\n",
      "Sample records:\n",
      "        Country          Region  Happiness Rank  Happiness Score  \\\n",
      "0      Denmark  Western Europe               1            7.526   \n",
      "1  Switzerland  Western Europe               2            7.509   \n",
      "2      Iceland  Western Europe               3            7.501   \n",
      "3       Norway  Western Europe               4            7.498   \n",
      "4      Finland  Western Europe               5            7.413   \n",
      "\n",
      "   Lower Confidence Interval  Upper Confidence Interval  \\\n",
      "0                      7.460                      7.592   \n",
      "1                      7.428                      7.590   \n",
      "2                        NaN                      7.669   \n",
      "3                      7.421                      7.575   \n",
      "4                      7.351                        NaN   \n",
      "\n",
      "   Economy (GDP per Capita)   Family  Health (Life Expectancy)  Freedom  \\\n",
      "0                   1.44178  1.16374                   0.79504      NaN   \n",
      "1                   1.52733  1.14524                   0.86303  0.58557   \n",
      "2                   1.42666  1.18326                   0.86733  0.56624   \n",
      "3                   1.57744      NaN                   0.79579  0.59609   \n",
      "4                   1.40598  1.13464                   0.81091  0.57104   \n",
      "\n",
      "   Trust (Government Corruption)  Generosity  Dystopia Residual  \n",
      "0                        0.44453     0.36171            2.73939  \n",
      "1                        0.41203     0.28083            2.69463  \n",
      "2                        0.14975     0.47678            2.83137  \n",
      "3                        0.35776     0.37895            2.66465  \n",
      "4                        0.41004     0.25492            2.82596  \n",
      "\n",
      "Column names:\n",
      " ['Country', 'Region', 'Happiness Rank', 'Happiness Score', 'Lower Confidence Interval', 'Upper Confidence Interval', 'Economy (GDP per Capita)', 'Family', 'Health (Life Expectancy)', 'Freedom', 'Trust (Government Corruption)', 'Generosity', 'Dystopia Residual']\n"
     ]
    }
   ],
   "source": [
    "print(\"\\nSample records:\\n\", df2.head())\n",
    "print(\"\\nColumn names:\\n\", df2.columns.tolist())"
   ]
  },
  {
   "cell_type": "code",
   "execution_count": 6,
   "metadata": {},
   "outputs": [
    {
     "name": "stdout",
     "output_type": "stream",
     "text": [
      "\n",
      "Sample records:\n",
      "        Country  Happiness.Rank  Happiness.Score  Whisker.high  Whisker.low  \\\n",
      "0       Norway               1            7.537      7.594445     7.479556   \n",
      "1      Denmark               2            7.522           NaN     7.462272   \n",
      "2      Iceland               3            7.504      7.622030     7.385970   \n",
      "3  Switzerland               4            7.494      7.561772     7.426227   \n",
      "4      Finland               5            7.469      7.527542     7.410458   \n",
      "\n",
      "   Economy..GDP.per.Capita.    Family  Health..Life.Expectancy.   Freedom  \\\n",
      "0                  1.616463  1.533524                  0.796667       NaN   \n",
      "1                  1.482383  1.551122                       NaN  0.626007   \n",
      "2                       NaN       NaN                  0.833552       NaN   \n",
      "3                       NaN  1.516912                  0.858131  0.620071   \n",
      "4                  1.443572  1.540247                  0.809158  0.617951   \n",
      "\n",
      "   Generosity  Trust..Government.Corruption.  Dystopia.Residual  \n",
      "0    0.362012                       0.315964           2.277027  \n",
      "1    0.355280                            NaN           2.313707  \n",
      "2    0.475540                       0.153527           2.322715  \n",
      "3         NaN                       0.367007                NaN  \n",
      "4    0.245483                       0.382612           2.430182  \n",
      "\n",
      "Column names:\n",
      " ['Country', 'Happiness.Rank', 'Happiness.Score', 'Whisker.high', 'Whisker.low', 'Economy..GDP.per.Capita.', 'Family', 'Health..Life.Expectancy.', 'Freedom', 'Generosity', 'Trust..Government.Corruption.', 'Dystopia.Residual']\n"
     ]
    }
   ],
   "source": [
    "print(\"\\nSample records:\\n\", df3.head())\n",
    "print(\"\\nColumn names:\\n\", df3.columns.tolist())"
   ]
  },
  {
   "cell_type": "code",
   "execution_count": 7,
   "metadata": {},
   "outputs": [
    {
     "name": "stdout",
     "output_type": "stream",
     "text": [
      "\n",
      "Sample records:\n",
      "    Overall rank Country or region  Score  GDP per capita  Social support  \\\n",
      "0             1           Finland  7.632           1.305           1.592   \n",
      "1             2            Norway  7.594           1.456           1.582   \n",
      "2             3           Denmark  7.555           1.351           1.590   \n",
      "3             4           Iceland  7.495           1.343           1.644   \n",
      "4             5       Switzerland  7.487           1.420           1.549   \n",
      "\n",
      "   Healthy life expectancy  Freedom to make life choices  Generosity  \\\n",
      "0                    0.874                         0.681       0.202   \n",
      "1                    0.861                         0.686       0.286   \n",
      "2                    0.868                         0.683       0.284   \n",
      "3                    0.914                         0.677       0.353   \n",
      "4                    0.927                         0.660       0.256   \n",
      "\n",
      "   Perceptions of corruption  \n",
      "0                      0.393  \n",
      "1                      0.340  \n",
      "2                      0.408  \n",
      "3                      0.138  \n",
      "4                      0.357  \n",
      "\n",
      "Column names:\n",
      " ['Overall rank', 'Country or region', 'Score', 'GDP per capita', 'Social support', 'Healthy life expectancy', 'Freedom to make life choices', 'Generosity', 'Perceptions of corruption']\n"
     ]
    }
   ],
   "source": [
    "print(\"\\nSample records:\\n\", df4.head())\n",
    "print(\"\\nColumn names:\\n\", df4.columns.tolist())"
   ]
  },
  {
   "cell_type": "code",
   "execution_count": 8,
   "metadata": {},
   "outputs": [
    {
     "name": "stdout",
     "output_type": "stream",
     "text": [
      "\n",
      "Sample records:\n",
      "    Overall rank Country or region  Score  GDP per capita  Social support  \\\n",
      "0             1           Finland  7.769           1.340           1.587   \n",
      "1             2           Denmark  7.600           1.383           1.573   \n",
      "2             3            Norway  7.554           1.488           1.582   \n",
      "3             4           Iceland  7.494           1.380           1.624   \n",
      "4             5       Netherlands  7.488           1.396           1.522   \n",
      "\n",
      "   Healthy life expectancy  Freedom to make life choices  Generosity  \\\n",
      "0                      NaN                           NaN       0.153   \n",
      "1                    0.996                         0.592       0.252   \n",
      "2                    1.028                         0.603       0.271   \n",
      "3                      NaN                         0.591         NaN   \n",
      "4                    0.999                         0.557       0.322   \n",
      "\n",
      "   Perceptions of corruption  \n",
      "0                      0.393  \n",
      "1                        NaN  \n",
      "2                      0.341  \n",
      "3                      0.118  \n",
      "4                      0.298  \n",
      "\n",
      "Column names:\n",
      " ['Overall rank', 'Country or region', 'Score', 'GDP per capita', 'Social support', 'Healthy life expectancy', 'Freedom to make life choices', 'Generosity', 'Perceptions of corruption']\n"
     ]
    }
   ],
   "source": [
    "print(\"\\nSample records:\\n\", df5.head())\n",
    "print(\"\\nColumn names:\\n\", df5.columns.tolist())"
   ]
  },
  {
   "cell_type": "code",
   "execution_count": 9,
   "metadata": {},
   "outputs": [],
   "source": [
    "# dfs = [df1, df2, df3, df4, df5]\n",
    "# df_names = ['df1', 'df2', 'df3', 'df4', 'df5']\n",
    "\n",
    "# # Get the max number of columns among all DataFrames\n",
    "# max_cols = max(len(df.columns) for df in dfs)\n",
    "\n",
    "# # Create a dictionary to hold aligned columns\n",
    "# aligned_columns = {\n",
    "#     name: df.columns.tolist() + [None] * (max_cols - len(df.columns))\n",
    "#     for name, df in zip(df_names, dfs)\n",
    "# }\n",
    "\n",
    "# # Create the comparison DataFrame\n",
    "# comparison_df = pd.DataFrame(aligned_columns)\n",
    "# comparison_df.index = [f'Column {i+1}' for i in range(max_cols)]\n",
    "# comparison_df"
   ]
  },
  {
   "cell_type": "code",
   "execution_count": 10,
   "metadata": {},
   "outputs": [],
   "source": [
    "# Bring all the data frames to the same shape and merge\n",
    "\n",
    "column_mapping = {\n",
    "'Country': 'country',\n",
    "'Country or region': 'country',\n",
    "'Happiness Score': 'happiness_score',\n",
    "'Score': 'happiness_score',\n",
    "'Happiness Rank': 'happiness_rank',\n",
    "'Overall rank': 'happiness_rank',\n",
    "'Economy (GDP per Capita)': 'gdp_per_capita',\n",
    "'Economy GDP per Capita':'gdp_per_capita',\n",
    "'GDP per capita': 'gdp_per_capita',\n",
    "'Family': 'social_support',\n",
    "'Social support': 'social_support',\n",
    "'Health (Life Expectancy)': 'life_expectancy',\n",
    "'Health Life Expectancy': 'life_expectancy',\n",
    "'Healthy life expectancy': 'life_expectancy',\n",
    "'Freedom': 'freedom',\n",
    "'Freedom to make life choices': 'freedom',\n",
    "'Trust (Government Corruption)': 'corruption',\n",
    "'Trust Government Corruption': 'corruption',\n",
    "'Perceptions of corruption': 'corruption',\n",
    "'Generosity': 'generosity',\n",
    "}"
   ]
  },
  {
   "cell_type": "code",
   "execution_count": 11,
   "metadata": {},
   "outputs": [
    {
     "name": "stdout",
     "output_type": "stream",
     "text": [
      "Index(['country', 'Region', 'happiness_rank', 'happiness_score',\n",
      "       'Standard Error', 'gdp_per_capita', 'social_support', 'life_expectancy',\n",
      "       'freedom', 'corruption', 'generosity', 'Dystopia Residual'],\n",
      "      dtype='object')\n"
     ]
    }
   ],
   "source": [
    " # Rename columns using mapping\n",
    "df1.columns = df1.columns.str.replace(r'[_\\.]+', ' ', regex=True)\n",
    "df1 = df1.rename(columns=column_mapping)\n",
    "df1.columns = df1.columns.str.strip()\n",
    "print(df1.columns)    \n"
   ]
  },
  {
   "cell_type": "code",
   "execution_count": 12,
   "metadata": {},
   "outputs": [],
   "source": [
    "# Add missing columns with NaNs\n",
    "for col in column_mapping.values():\n",
    "    if col not in df1.columns:\n",
    "        df1[col] = np.nan\n",
    "        print(\"Column Name\",col)\n",
    "            \n",
    "df1['year'] = 2015"
   ]
  },
  {
   "cell_type": "code",
   "execution_count": 13,
   "metadata": {},
   "outputs": [
    {
     "name": "stdout",
     "output_type": "stream",
     "text": [
      "Index(['country', 'Region', 'happiness_rank', 'happiness_score',\n",
      "       'Lower Confidence Interval', 'Upper Confidence Interval',\n",
      "       'gdp_per_capita', 'social_support', 'life_expectancy', 'freedom',\n",
      "       'corruption', 'generosity', 'Dystopia Residual'],\n",
      "      dtype='object')\n"
     ]
    }
   ],
   "source": [
    " # Rename columns using mapping\n",
    "df2.columns = df2.columns.str.replace(r'[_\\.]+', ' ', regex=True)\n",
    "df2 = df2.rename(columns=column_mapping)\n",
    "df2.columns = df2.columns.str.strip()\n",
    "print(df2.columns)    \n",
    "# Add missing columns with NaNs\n"
   ]
  },
  {
   "cell_type": "code",
   "execution_count": 14,
   "metadata": {},
   "outputs": [],
   "source": [
    "for col in column_mapping.values():\n",
    "    if col not in df2.columns:\n",
    "        df2[col] = np.nan\n",
    "        print(\"Column Name\",col)\n",
    "\n",
    "            \n",
    "df2['year'] = 2016"
   ]
  },
  {
   "cell_type": "code",
   "execution_count": 15,
   "metadata": {},
   "outputs": [
    {
     "name": "stdout",
     "output_type": "stream",
     "text": [
      "Index(['country', 'happiness_rank', 'happiness_score', 'Whisker high',\n",
      "       'Whisker low', 'gdp_per_capita', 'social_support', 'life_expectancy',\n",
      "       'freedom', 'generosity', 'corruption', 'Dystopia Residual'],\n",
      "      dtype='object')\n"
     ]
    }
   ],
   "source": [
    " # Rename columns using mapping\n",
    "df3.columns = df3.columns.str.replace(r'[_\\.]+', ' ', regex=True)\n",
    "df3.columns = df3.columns.str.strip()\n",
    "df3 = df3.rename(columns=column_mapping)\n",
    "print(df3.columns)    "
   ]
  },
  {
   "cell_type": "code",
   "execution_count": 16,
   "metadata": {},
   "outputs": [],
   "source": [
    "# Add missing columns with NaNs\n",
    "for col in column_mapping.values():\n",
    "    if col not in df3.columns:\n",
    "        df3[col] = np.nan\n",
    "        print(\"Column Name\",col)\n",
    "            \n",
    "df3['year'] = 2017"
   ]
  },
  {
   "cell_type": "code",
   "execution_count": 17,
   "metadata": {},
   "outputs": [],
   "source": [
    " # Rename columns using mapping\n",
    "df4.columns = df4.columns.str.replace(r'[_\\.]+', ' ', regex=True)\n",
    "df4 = df4.rename(columns=column_mapping)\n",
    "df4.columns = df4.columns.str.strip()"
   ]
  },
  {
   "cell_type": "code",
   "execution_count": 18,
   "metadata": {},
   "outputs": [],
   "source": [
    "for col in column_mapping.values():\n",
    "    if col not in df4.columns:\n",
    "        df4[col] = np.nan\n",
    "        print(\"Column Name\",col)            \n",
    "df4['year'] = 2018"
   ]
  },
  {
   "cell_type": "code",
   "execution_count": 19,
   "metadata": {},
   "outputs": [],
   "source": [
    "# df4.columns"
   ]
  },
  {
   "cell_type": "code",
   "execution_count": 20,
   "metadata": {},
   "outputs": [],
   "source": [
    " # Rename columns using mapping\n",
    "df5.columns = df5.columns.str.replace(r'[_\\.]+', ' ', regex=True)\n",
    "df5 = df5.rename(columns=column_mapping)\n",
    "df5.columns = df5.columns.str.strip()"
   ]
  },
  {
   "cell_type": "code",
   "execution_count": 21,
   "metadata": {},
   "outputs": [],
   "source": [
    "# Add missing columns with NaNs\n",
    "for col in column_mapping.values():\n",
    "    if col not in df1.columns:\n",
    "        df5[col] = np.nan\n",
    "        print(\"Column Name\",col)\n",
    "            \n",
    "df5['year'] = 2019"
   ]
  },
  {
   "cell_type": "code",
   "execution_count": 22,
   "metadata": {},
   "outputs": [
    {
     "name": "stdout",
     "output_type": "stream",
     "text": [
      "10\n"
     ]
    },
    {
     "data": {
      "text/html": [
       "<div>\n",
       "<style scoped>\n",
       "    .dataframe tbody tr th:only-of-type {\n",
       "        vertical-align: middle;\n",
       "    }\n",
       "\n",
       "    .dataframe tbody tr th {\n",
       "        vertical-align: top;\n",
       "    }\n",
       "\n",
       "    .dataframe thead th {\n",
       "        text-align: right;\n",
       "    }\n",
       "</style>\n",
       "<table border=\"1\" class=\"dataframe\">\n",
       "  <thead>\n",
       "    <tr style=\"text-align: right;\">\n",
       "      <th></th>\n",
       "      <th>country</th>\n",
       "      <th>happiness_score</th>\n",
       "      <th>happiness_rank</th>\n",
       "      <th>gdp_per_capita</th>\n",
       "      <th>social_support</th>\n",
       "      <th>life_expectancy</th>\n",
       "      <th>freedom</th>\n",
       "      <th>generosity</th>\n",
       "      <th>corruption</th>\n",
       "      <th>year</th>\n",
       "    </tr>\n",
       "  </thead>\n",
       "  <tbody>\n",
       "    <tr>\n",
       "      <th>0</th>\n",
       "      <td>Switzerland</td>\n",
       "      <td>7.587</td>\n",
       "      <td>1</td>\n",
       "      <td>1.39651</td>\n",
       "      <td>1.34951</td>\n",
       "      <td>0.94143</td>\n",
       "      <td>NaN</td>\n",
       "      <td>0.29678</td>\n",
       "      <td>0.41978</td>\n",
       "      <td>2015</td>\n",
       "    </tr>\n",
       "    <tr>\n",
       "      <th>1</th>\n",
       "      <td>Iceland</td>\n",
       "      <td>7.561</td>\n",
       "      <td>2</td>\n",
       "      <td>1.30232</td>\n",
       "      <td>1.40223</td>\n",
       "      <td>0.94784</td>\n",
       "      <td>0.62877</td>\n",
       "      <td>0.43630</td>\n",
       "      <td>0.14145</td>\n",
       "      <td>2015</td>\n",
       "    </tr>\n",
       "    <tr>\n",
       "      <th>2</th>\n",
       "      <td>Denmark</td>\n",
       "      <td>7.527</td>\n",
       "      <td>3</td>\n",
       "      <td>NaN</td>\n",
       "      <td>1.36058</td>\n",
       "      <td>0.87464</td>\n",
       "      <td>NaN</td>\n",
       "      <td>0.34139</td>\n",
       "      <td>0.48357</td>\n",
       "      <td>2015</td>\n",
       "    </tr>\n",
       "    <tr>\n",
       "      <th>3</th>\n",
       "      <td>Norway</td>\n",
       "      <td>7.522</td>\n",
       "      <td>4</td>\n",
       "      <td>1.45900</td>\n",
       "      <td>1.33095</td>\n",
       "      <td>0.88521</td>\n",
       "      <td>0.66973</td>\n",
       "      <td>0.34699</td>\n",
       "      <td>0.36503</td>\n",
       "      <td>2015</td>\n",
       "    </tr>\n",
       "    <tr>\n",
       "      <th>4</th>\n",
       "      <td>Canada</td>\n",
       "      <td>7.427</td>\n",
       "      <td>5</td>\n",
       "      <td>NaN</td>\n",
       "      <td>1.32261</td>\n",
       "      <td>0.90563</td>\n",
       "      <td>0.63297</td>\n",
       "      <td>0.45811</td>\n",
       "      <td>0.32957</td>\n",
       "      <td>2015</td>\n",
       "    </tr>\n",
       "    <tr>\n",
       "      <th>...</th>\n",
       "      <td>...</td>\n",
       "      <td>...</td>\n",
       "      <td>...</td>\n",
       "      <td>...</td>\n",
       "      <td>...</td>\n",
       "      <td>...</td>\n",
       "      <td>...</td>\n",
       "      <td>...</td>\n",
       "      <td>...</td>\n",
       "      <td>...</td>\n",
       "    </tr>\n",
       "    <tr>\n",
       "      <th>777</th>\n",
       "      <td>Rwanda</td>\n",
       "      <td>3.334</td>\n",
       "      <td>152</td>\n",
       "      <td>0.35900</td>\n",
       "      <td>0.71100</td>\n",
       "      <td>0.61400</td>\n",
       "      <td>0.55500</td>\n",
       "      <td>0.21700</td>\n",
       "      <td>0.41100</td>\n",
       "      <td>2019</td>\n",
       "    </tr>\n",
       "    <tr>\n",
       "      <th>778</th>\n",
       "      <td>Tanzania</td>\n",
       "      <td>3.231</td>\n",
       "      <td>153</td>\n",
       "      <td>0.47600</td>\n",
       "      <td>0.88500</td>\n",
       "      <td>0.49900</td>\n",
       "      <td>0.41700</td>\n",
       "      <td>0.27600</td>\n",
       "      <td>0.14700</td>\n",
       "      <td>2019</td>\n",
       "    </tr>\n",
       "    <tr>\n",
       "      <th>779</th>\n",
       "      <td>Afghanistan</td>\n",
       "      <td>3.203</td>\n",
       "      <td>154</td>\n",
       "      <td>0.35000</td>\n",
       "      <td>0.51700</td>\n",
       "      <td>0.36100</td>\n",
       "      <td>0.00000</td>\n",
       "      <td>0.15800</td>\n",
       "      <td>0.02500</td>\n",
       "      <td>2019</td>\n",
       "    </tr>\n",
       "    <tr>\n",
       "      <th>780</th>\n",
       "      <td>Central African Republic</td>\n",
       "      <td>3.083</td>\n",
       "      <td>155</td>\n",
       "      <td>0.02600</td>\n",
       "      <td>0.00000</td>\n",
       "      <td>NaN</td>\n",
       "      <td>NaN</td>\n",
       "      <td>0.23500</td>\n",
       "      <td>0.03500</td>\n",
       "      <td>2019</td>\n",
       "    </tr>\n",
       "    <tr>\n",
       "      <th>781</th>\n",
       "      <td>South Sudan</td>\n",
       "      <td>2.853</td>\n",
       "      <td>156</td>\n",
       "      <td>0.30600</td>\n",
       "      <td>0.57500</td>\n",
       "      <td>0.29500</td>\n",
       "      <td>0.01000</td>\n",
       "      <td>0.20200</td>\n",
       "      <td>0.09100</td>\n",
       "      <td>2019</td>\n",
       "    </tr>\n",
       "  </tbody>\n",
       "</table>\n",
       "<p>782 rows × 10 columns</p>\n",
       "</div>"
      ],
      "text/plain": [
       "                      country  happiness_score  happiness_rank  \\\n",
       "0                 Switzerland            7.587               1   \n",
       "1                     Iceland            7.561               2   \n",
       "2                     Denmark            7.527               3   \n",
       "3                      Norway            7.522               4   \n",
       "4                      Canada            7.427               5   \n",
       "..                        ...              ...             ...   \n",
       "777                    Rwanda            3.334             152   \n",
       "778                  Tanzania            3.231             153   \n",
       "779               Afghanistan            3.203             154   \n",
       "780  Central African Republic            3.083             155   \n",
       "781               South Sudan            2.853             156   \n",
       "\n",
       "     gdp_per_capita  social_support  life_expectancy  freedom  generosity  \\\n",
       "0           1.39651         1.34951          0.94143      NaN     0.29678   \n",
       "1           1.30232         1.40223          0.94784  0.62877     0.43630   \n",
       "2               NaN         1.36058          0.87464      NaN     0.34139   \n",
       "3           1.45900         1.33095          0.88521  0.66973     0.34699   \n",
       "4               NaN         1.32261          0.90563  0.63297     0.45811   \n",
       "..              ...             ...              ...      ...         ...   \n",
       "777         0.35900         0.71100          0.61400  0.55500     0.21700   \n",
       "778         0.47600         0.88500          0.49900  0.41700     0.27600   \n",
       "779         0.35000         0.51700          0.36100  0.00000     0.15800   \n",
       "780         0.02600         0.00000              NaN      NaN     0.23500   \n",
       "781         0.30600         0.57500          0.29500  0.01000     0.20200   \n",
       "\n",
       "     corruption  year  \n",
       "0       0.41978  2015  \n",
       "1       0.14145  2015  \n",
       "2       0.48357  2015  \n",
       "3       0.36503  2015  \n",
       "4       0.32957  2015  \n",
       "..          ...   ...  \n",
       "777     0.41100  2019  \n",
       "778     0.14700  2019  \n",
       "779     0.02500  2019  \n",
       "780     0.03500  2019  \n",
       "781     0.09100  2019  \n",
       "\n",
       "[782 rows x 10 columns]"
      ]
     },
     "execution_count": 22,
     "metadata": {},
     "output_type": "execute_result"
    }
   ],
   "source": [
    "# Merge all data\n",
    "all_data = [df1, df2, df3, df4, df5]\n",
    "df = pd.concat(all_data, ignore_index=True)\n",
    "cols_to_keep = ['country', 'happiness_score', 'happiness_rank', 'gdp_per_capita',\n",
    "                    'social_support', 'life_expectancy', 'freedom', 'generosity',\n",
    "                    'corruption', 'year']\n",
    "print(len(cols_to_keep))\n",
    "    \n",
    "df = df[cols_to_keep]\n",
    "df"
   ]
  },
  {
   "cell_type": "code",
   "execution_count": 23,
   "metadata": {},
   "outputs": [
    {
     "name": "stdout",
     "output_type": "stream",
     "text": [
      "Shape of the dataset: (782, 10)\n",
      "\n",
      "Years included: [2015 2016 2017 2018 2019]\n",
      "\n",
      "Data types:\n",
      " country             object\n",
      "happiness_score    float64\n",
      "happiness_rank       int64\n",
      "gdp_per_capita     float64\n",
      "social_support     float64\n",
      "life_expectancy    float64\n",
      "freedom            float64\n",
      "generosity         float64\n",
      "corruption         float64\n",
      "year                 int64\n",
      "dtype: object\n",
      "\n",
      "Sample records:\n",
      "        country  happiness_score  happiness_rank  gdp_per_capita  \\\n",
      "0  Switzerland            7.587               1         1.39651   \n",
      "1      Iceland            7.561               2         1.30232   \n",
      "2      Denmark            7.527               3             NaN   \n",
      "3       Norway            7.522               4         1.45900   \n",
      "4       Canada            7.427               5             NaN   \n",
      "\n",
      "   social_support  life_expectancy  freedom  generosity  corruption  year  \n",
      "0         1.34951          0.94143      NaN     0.29678     0.41978  2015  \n",
      "1         1.40223          0.94784  0.62877     0.43630     0.14145  2015  \n",
      "2         1.36058          0.87464      NaN     0.34139     0.48357  2015  \n",
      "3         1.33095          0.88521  0.66973     0.34699     0.36503  2015  \n",
      "4         1.32261          0.90563  0.63297     0.45811     0.32957  2015  \n",
      "\n",
      "Column names:\n",
      " ['country', 'happiness_score', 'happiness_rank', 'gdp_per_capita', 'social_support', 'life_expectancy', 'freedom', 'generosity', 'corruption', 'year']\n"
     ]
    }
   ],
   "source": [
    "# Basic Exploration\n",
    "print(\"Shape of the dataset:\", df.shape)\n",
    "print(\"\\nYears included:\", df['year'].unique())\n",
    "print(\"\\nData types:\\n\", df.dtypes)\n",
    "print(\"\\nSample records:\\n\", df.head())\n",
    "print(\"\\nColumn names:\\n\", df.columns.tolist())"
   ]
  },
  {
   "cell_type": "code",
   "execution_count": 24,
   "metadata": {},
   "outputs": [
    {
     "name": "stdout",
     "output_type": "stream",
     "text": [
      "\n",
      "Missing values:\n",
      " country            10\n",
      "happiness_score     0\n",
      "happiness_rank      0\n",
      "gdp_per_capita     75\n",
      "social_support     75\n",
      "life_expectancy    75\n",
      "freedom            75\n",
      "generosity         75\n",
      "corruption         76\n",
      "year                0\n",
      "dtype: int64\n"
     ]
    }
   ],
   "source": [
    "# Handling Missing Values\n",
    "print(\"\\nMissing values:\\n\", df.isnull().sum())"
   ]
  },
  {
   "cell_type": "code",
   "execution_count": 25,
   "metadata": {},
   "outputs": [],
   "source": [
    "imputed_df = df.copy()\n",
    "\n",
    "# Impute numeric columns using mean\n",
    "numeric_cols = imputed_df.select_dtypes(include=[\"float64\", \"int64\"]).columns.tolist()\n",
    "for col in numeric_cols:\n",
    "    if col != \"year\":  # we don't need to impute year\n",
    "        imputed_df[col] = imputed_df[col].fillna(imputed_df[col].mean())"
   ]
  },
  {
   "cell_type": "code",
   "execution_count": 26,
   "metadata": {},
   "outputs": [
    {
     "name": "stdout",
     "output_type": "stream",
     "text": [
      "\n",
      "Missing values:\n",
      " country            10\n",
      "happiness_score     0\n",
      "happiness_rank      0\n",
      "gdp_per_capita      0\n",
      "social_support      0\n",
      "life_expectancy     0\n",
      "freedom             0\n",
      "generosity          0\n",
      "corruption          0\n",
      "year                0\n",
      "dtype: int64\n"
     ]
    }
   ],
   "source": [
    "# Handling Missing Numerical Values\n",
    "print(\"\\nMissing values:\\n\", imputed_df.isnull().sum())"
   ]
  },
  {
   "cell_type": "code",
   "execution_count": 27,
   "metadata": {},
   "outputs": [],
   "source": [
    "cat_cols = imputed_df.select_dtypes(include=[\"object\"]).columns.tolist()\n",
    "imputed_df = imputed_df.dropna(subset=cat_cols)        "
   ]
  },
  {
   "cell_type": "code",
   "execution_count": 28,
   "metadata": {},
   "outputs": [
    {
     "name": "stdout",
     "output_type": "stream",
     "text": [
      "\n",
      "Missing values:\n",
      " country            0\n",
      "happiness_score    0\n",
      "happiness_rank     0\n",
      "gdp_per_capita     0\n",
      "social_support     0\n",
      "life_expectancy    0\n",
      "freedom            0\n",
      "generosity         0\n",
      "corruption         0\n",
      "year               0\n",
      "dtype: int64\n"
     ]
    }
   ],
   "source": [
    "# Handling Missing Numerical Values\n",
    "print(\"\\nMissing values:\\n\", imputed_df.isnull().sum())"
   ]
  },
  {
   "cell_type": "code",
   "execution_count": null,
   "metadata": {},
   "outputs": [],
   "source": [
    "# df[df['corruption'].isna()]"
   ]
  },
  {
   "cell_type": "code",
   "execution_count": null,
   "metadata": {},
   "outputs": [],
   "source": [
    "# # Impute numerical columns\n",
    "# num_cols = df.select_dtypes(include=np.number).columns\n",
    "# for col in num_cols:\n",
    "#     if df[col].isnull().sum() > 0:\n",
    "#         df[col].fillna(df[col].mean(), inplace=True)\n",
    "\n",
    "# print(\"\\nMissing values after filling mean:\\n\", df.isnull().sum())\n",
    "# # Drop rows with any remaining missing values\n",
    "# df.dropna(inplace=True)"
   ]
  },
  {
   "cell_type": "code",
   "execution_count": 29,
   "metadata": {},
   "outputs": [
    {
     "name": "stdout",
     "output_type": "stream",
     "text": [
      "\n",
      "Number of duplicate rows: 0\n"
     ]
    }
   ],
   "source": [
    "# Check For Duplicates\n",
    "duplicates = imputed_df.duplicated().sum()\n",
    "print(f\"\\nNumber of duplicate rows: {duplicates}\")\n",
    "imputed_df = imputed_df.drop_duplicates()"
   ]
  },
  {
   "cell_type": "code",
   "execution_count": null,
   "metadata": {},
   "outputs": [],
   "source": [
    "# # Final Column Clean-Up\n",
    "\n",
    "# # Convert 'year' to categorical if it's present\n",
    "# if 'year' in df.columns:\n",
    "#     df['year'] = df['year'].astype('category')\n",
    "# df.columns = df.columns.str.lower().str.replace(' ', '_')"
   ]
  },
  {
   "cell_type": "code",
   "execution_count": 30,
   "metadata": {},
   "outputs": [],
   "source": [
    "# Feature Engineering\n",
    "\n",
    "imputed_df['is_happy'] = imputed_df['happiness_score'] >= imputed_df['happiness_score'].median()\n",
    "\n",
    "# Create a region-based classification (if region or similar exists)\n",
    "if 'country' in imputed_df.columns:\n",
    "    imputed_df['country'] = imputed_df['country'].str.title()"
   ]
  },
  {
   "cell_type": "code",
   "execution_count": 31,
   "metadata": {},
   "outputs": [
    {
     "name": "stdout",
     "output_type": "stream",
     "text": [
      "\n",
      "Top 5 correlated features with happiness_score:\n",
      "happiness_score    1.000000\n",
      "is_happy           0.832118\n",
      "gdp_per_capita     0.756422\n",
      "life_expectancy    0.696991\n",
      "social_support     0.621877\n",
      "freedom            0.512413\n",
      "Name: happiness_score, dtype: float64\n"
     ]
    }
   ],
   "source": [
    "# Correlation\n",
    "\n",
    "correlations = imputed_df.corr(numeric_only=True)\n",
    "print(\"\\nTop 5 correlated features with happiness_score:\")\n",
    "print(correlations['happiness_score'].sort_values(ascending=False).head(6))"
   ]
  },
  {
   "cell_type": "code",
   "execution_count": 32,
   "metadata": {},
   "outputs": [
    {
     "name": "stdout",
     "output_type": "stream",
     "text": [
      "\n",
      "Cleaned data saved to cleaned_world_happiness_final.csv\n"
     ]
    }
   ],
   "source": [
    "# Save Final Clean Dataset\n",
    "\n",
    "output_path = 'cleaned_world_happiness_final.csv'\n",
    "imputed_df.to_csv(output_path, index=False)\n",
    "print(f\"\\nCleaned data saved to {output_path}\")"
   ]
  },
  {
   "cell_type": "code",
   "execution_count": 33,
   "metadata": {},
   "outputs": [
    {
     "name": "stdout",
     "output_type": "stream",
     "text": [
      "\n",
      "Final DataFrame Info:\n",
      "<class 'pandas.core.frame.DataFrame'>\n",
      "RangeIndex: 782 entries, 0 to 781\n",
      "Data columns (total 10 columns):\n",
      " #   Column           Non-Null Count  Dtype  \n",
      "---  ------           --------------  -----  \n",
      " 0   country          772 non-null    object \n",
      " 1   happiness_score  782 non-null    float64\n",
      " 2   happiness_rank   782 non-null    int64  \n",
      " 3   gdp_per_capita   707 non-null    float64\n",
      " 4   social_support   707 non-null    float64\n",
      " 5   life_expectancy  707 non-null    float64\n",
      " 6   freedom          707 non-null    float64\n",
      " 7   generosity       707 non-null    float64\n",
      " 8   corruption       706 non-null    float64\n",
      " 9   year             782 non-null    int64  \n",
      "dtypes: float64(7), int64(2), object(1)\n",
      "memory usage: 61.2+ KB\n",
      "None\n",
      "         country  happiness_score  happiness_rank  gdp_per_capita  \\\n",
      "392       Kosovo            5.279              78        0.951484   \n",
      "345       France            6.442              31        1.430923   \n",
      "165  New Zealand            7.334               8             NaN   \n",
      "599      Myanmar            4.308             130        0.682000   \n",
      "20           NaN            6.867              21        1.266370   \n",
      "\n",
      "     social_support  life_expectancy   freedom  generosity  corruption  year  \n",
      "392        1.137854         0.541452  0.260288    0.319931         NaN  2017  \n",
      "345        1.387777         0.844466  0.470222    0.129762    0.172502  2017  \n",
      "165        1.172780         0.830960  0.581470    0.494010    0.419040  2016  \n",
      "599             NaN         0.429000  0.580000    0.598000    0.178000  2018  \n",
      "20         1.285480         0.909430  0.596250    0.519120    0.320670  2015  \n",
      "\n",
      "Final few rows:\n",
      "                       country  happiness_score  happiness_rank  \\\n",
      "777                    Rwanda            3.334             152   \n",
      "778                  Tanzania            3.231             153   \n",
      "779               Afghanistan            3.203             154   \n",
      "780  Central African Republic            3.083             155   \n",
      "781               South Sudan            2.853             156   \n",
      "\n",
      "     gdp_per_capita  social_support  life_expectancy  freedom  generosity  \\\n",
      "777           0.359           0.711            0.614    0.555       0.217   \n",
      "778           0.476           0.885            0.499    0.417       0.276   \n",
      "779           0.350           0.517            0.361    0.000       0.158   \n",
      "780           0.026           0.000              NaN      NaN       0.235   \n",
      "781           0.306           0.575            0.295    0.010       0.202   \n",
      "\n",
      "     corruption  year  \n",
      "777       0.411  2019  \n",
      "778       0.147  2019  \n",
      "779       0.025  2019  \n",
      "780       0.035  2019  \n",
      "781       0.091  2019  \n"
     ]
    }
   ],
   "source": [
    "# Final Sanity\n",
    "\n",
    "print(\"\\nFinal DataFrame Info:\")\n",
    "print(df.info())\n",
    "print(df.sample(5))\n",
    "print(\"\\nFinal few rows:\\n\", df.tail())"
   ]
  },
  {
   "cell_type": "code",
   "execution_count": null,
   "metadata": {},
   "outputs": [],
   "source": []
  }
 ],
 "metadata": {
  "kernelspec": {
   "display_name": ".venv",
   "language": "python",
   "name": "python3"
  },
  "language_info": {
   "codemirror_mode": {
    "name": "ipython",
    "version": 3
   },
   "file_extension": ".py",
   "mimetype": "text/x-python",
   "name": "python",
   "nbconvert_exporter": "python",
   "pygments_lexer": "ipython3",
   "version": "3.12.10"
  }
 },
 "nbformat": 4,
 "nbformat_minor": 2
}
